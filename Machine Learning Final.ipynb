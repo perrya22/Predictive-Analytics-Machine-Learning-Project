{
 "cells": [
  {
   "cell_type": "markdown",
   "id": "c3253594",
   "metadata": {},
   "source": [
    "# Breast Cancer Machine Learning Classification Analysis"
   ]
  },
  {
   "cell_type": "markdown",
   "id": "693d9b6b",
   "metadata": {},
   "source": [
    "## Executive Summary"
   ]
  },
  {
   "cell_type": "markdown",
   "id": "a6988699",
   "metadata": {},
   "source": [
    "Cancer is one of the leading causes of death in the world, and while there are treatments, there is no set cure for it. Among them, breast cancer is one of the most prevalent. While it does mainly affect women, men can be diagnosed with it too. The purpose of this project is to predict who may or may not have breast cancer based on a number of predictors. Libraries in R were used to aid in the process. Three techniques were used: ridge regularization, lasso regularization, and classification trees. Seeing which method produces the best results for specific outcomes is beneficial. For instance, doctors may be more concerned with the sensitivity assessment rather than the total accuracy. This is because one would not want to misdiagnose someone by saying they don't have cancer, when in reality they do. A high sensitivity means that the chance for a false positive rate is low. The results show that classification trees were slightly better when it came to sensitivity assessments, whereas the regression methods were better in predicting the total accuracy. "
   ]
  },
  {
   "cell_type": "markdown",
   "id": "69768d9e",
   "metadata": {},
   "source": [
    "## Data"
   ]
  },
  {
   "cell_type": "markdown",
   "id": "ba95daf0",
   "metadata": {},
   "source": [
    "The original data is from https://archive.ics.uci.edu/ml/datasets/Breast+Cancer+Wisconsin+%28Diagnostic%29, the UCI machine learning repository website. The title is **Breast Cancer Wisconsin (Diagnostic)** by Dr. William H. Wolberg, W. Nick Street, and Olvi L. Mangasarian. The data used in this project is a cleaner version of the original, posted by user UCI Machine Learning. \n",
    "\n",
    "There are three types of categories in the data for the real-valued features. These are **mean**, **SE**, and **worst**. Each variable like this has each kind of these categories. For example, there is a mean radius, standard error radius, and worst radius; all are numerical. Taken from the attribute information from the original website, the following are all the variables:\n",
    "\n",
    "- **ID number** \n",
    "- **Diagnosis** (M = malignant, B = benign)\n",
    "\n",
    "Ten real-valued features are computed for each cell nucleus:\n",
    "\n",
    "- **Radius** (mean of distances from center to points on the perimeter)\n",
    "- **Texture** (standard deviation of gray-scale values)\n",
    "- **Perimeter**\n",
    "- **Area**\n",
    "- **Smoothness** (local variation in radius lengths)\n",
    "- **Compactness** (perimeter^2 / area - 1.0)\n",
    "- **Concavity** (severity of concave portions of the contour)\n",
    "- **Concave Points** (number of concave portions of the contour)\n",
    "- **Symmetry**\n",
    "- **Fractal Dimension** (\"coastline approximation\" - 1)\n",
    "\n",
    "The goal is to accurately predict whether the variable **diagnosis** is benign or malignant."
   ]
  },
  {
   "cell_type": "markdown",
   "id": "fa3684ee",
   "metadata": {},
   "source": [
    "## Methodology"
   ]
  },
  {
   "cell_type": "markdown",
   "id": "21ae1d68",
   "metadata": {},
   "source": [
    "First, the necessary packages must be installed. For ridge and lasso methods, we must install glmnet and pROC. The first one ensures we're able to perform logistic regression with regularization, and the second allows us to produce an ROC curve. Package dplyr should be loaded for data manipulation purposes as well. \n",
    "\n",
    "For the classification tree method, we only need to install the package tree. \n",
    "\n",
    "Ridge and lasso regression are somewhat similar to linear regression. The only difference is that the cost function is slightly different. Ridge regression includes the addition of a term that's equal to the sum of the squared coefficients, and then having that sum multiplied by term lambda. Lambda is the penalty term in this scenario; since the penalty term is added onto the normal cost function of ordinary linear regression, as lambda approaches 0, the ridge regression performs very similarly to linear regression. Lambda's function is to regularize the coefficients if they take on such large values, hence the penalty. Lasso regression has a different term added; instead, it has only the magnitude of the coefficients summed up, and then multiplied by lambda. This allows some features to be neglected entirely since it is now possible to have parameters with a value of zero, whereas in ridge regression values cannot be neglected, but can be very small and close to 0. This is why the lasso method is used as a variable selection method as well, with the acronym being **Least Absolute Shrinkage and Selection Operator**.\n",
    "\n",
    "We must tune this hyperparameter lambda if one wants to have the best model. We must use the glmnet package for this reason, as it allows us to use cross-validation to search for the best model. The measurements used will be deviance, or  $D = -2\\ln L(\\beta)=2\\ell(\\beta)$, which can be thought as a measure that shows how much the model deviates from an ideal one, and MSE, or mean squared error. \n",
    "\n",
    "Plots for ridge regularization will then be created, one that shows the deviance on the y-axis, and the other showing the MSE for illustrative purposes. \n",
    "\n",
    "After creating training and test splits, we can see how well the tested model performs with an ROC curve illustration. ROC curves illustrate the accuracy of the model, and they also highlight how well the sensitivity is. Then, a correlation matrix will be created in order to see the proportions of how accurate the chosen model is. The chosen lambda is based off the 1se rule. This rule denotes that we want to choose a more parsimonious, or simple, model; therefore, choosing the lambda that's one standard error off, a value that's usually not so large, is a recommended practice.\n",
    "\n",
    "Lastly, the proportions of the model associated with this lambda value will be assessed, with accuracies and sensitivities observed. The process will be repeated for lasso regression to determine if any significant difference is shown.\n",
    "\n",
    "\n",
    "\n",
    "For classification trees, the idea of it has to do with minimizing the sum of the squared errors. For example, say you have two variables, and they represent two axes. Within this graph, there are various partitions. In order to minimize the sum of squared errors, and without computationally going through one by one, two large partitions are compared against each other. Then, the one with the lower value will be selected, and then that will be further partitioned. This process is continued until a region has no more than 5 observations, or if a certain stopping criteria is met. \n",
    "\n",
    "The full tree will most likely have an issue of overfitting. We must regularize this by choosing a subset of the full tree, one used to better reflect out-of-sample data. We must find an optimal value of alpha such that it minimized the cost function, which can be done by observing a cross-validated graph. Then, we will know the number of nodes required for this model. This process is called pruning. Proportions can be created afterwards, and comparisons can be made between this method and the ridge/lasso regularization methods. "
   ]
  },
  {
   "cell_type": "markdown",
   "id": "d290f6fe",
   "metadata": {},
   "source": [
    "## Results"
   ]
  },
  {
   "cell_type": "markdown",
   "id": "d340b63b",
   "metadata": {},
   "source": [
    "### Ridge Regularization"
   ]
  },
  {
   "cell_type": "markdown",
   "id": "645e6341",
   "metadata": {},
   "source": [
    "Load the necessary packages for logistic regression"
   ]
  },
  {
   "cell_type": "code",
   "execution_count": 1,
   "id": "6e5d36c7",
   "metadata": {},
   "outputs": [
    {
     "name": "stderr",
     "output_type": "stream",
     "text": [
      "Loading required package: Matrix\n",
      "Loading required package: foreach\n",
      "Loaded glmnet 2.0-16\n",
      "\n",
      "Warning message:\n",
      "\"package 'pROC' was built under R version 3.6.3\"Type 'citation(\"pROC\")' for a citation.\n",
      "\n",
      "Attaching package: 'pROC'\n",
      "\n",
      "The following object is masked from 'package:glmnet':\n",
      "\n",
      "    auc\n",
      "\n",
      "The following objects are masked from 'package:stats':\n",
      "\n",
      "    cov, smooth, var\n",
      "\n",
      "\n",
      "Attaching package: 'dplyr'\n",
      "\n",
      "The following objects are masked from 'package:stats':\n",
      "\n",
      "    filter, lag\n",
      "\n",
      "The following objects are masked from 'package:base':\n",
      "\n",
      "    intersect, setdiff, setequal, union\n",
      "\n"
     ]
    }
   ],
   "source": [
    "library(glmnet) #For logistic regression\n",
    "library(pROC) #For the ROC curve\n",
    "library(dplyr) #For data manipulation"
   ]
  },
  {
   "cell_type": "code",
   "execution_count": 2,
   "id": "05c0a7bf",
   "metadata": {
    "scrolled": true
   },
   "outputs": [
    {
     "data": {
      "text/html": [
       "<table>\n",
       "<thead><tr><th scope=col>id</th><th scope=col>diagnosis</th><th scope=col>radius_mean</th><th scope=col>texture_mean</th><th scope=col>perimeter_mean</th><th scope=col>area_mean</th><th scope=col>smoothness_mean</th><th scope=col>compactness_mean</th><th scope=col>concavity_mean</th><th scope=col>concave.points_mean</th><th scope=col>...</th><th scope=col>texture_worst</th><th scope=col>perimeter_worst</th><th scope=col>area_worst</th><th scope=col>smoothness_worst</th><th scope=col>compactness_worst</th><th scope=col>concavity_worst</th><th scope=col>concave.points_worst</th><th scope=col>symmetry_worst</th><th scope=col>fractal_dimension_worst</th><th scope=col>X</th></tr></thead>\n",
       "<tbody>\n",
       "\t<tr><td>  842302</td><td>M       </td><td>17.99   </td><td>10.38   </td><td>122.80  </td><td>1001.0  </td><td>0.11840 </td><td>0.27760 </td><td>0.3001  </td><td>0.14710 </td><td>...     </td><td>17.33   </td><td>184.60  </td><td>2019.0  </td><td>0.1622  </td><td>0.6656  </td><td>0.7119  </td><td>0.2654  </td><td>0.4601  </td><td>0.11890 </td><td>NA      </td></tr>\n",
       "\t<tr><td>  842517</td><td>M       </td><td>20.57   </td><td>17.77   </td><td>132.90  </td><td>1326.0  </td><td>0.08474 </td><td>0.07864 </td><td>0.0869  </td><td>0.07017 </td><td>...     </td><td>23.41   </td><td>158.80  </td><td>1956.0  </td><td>0.1238  </td><td>0.1866  </td><td>0.2416  </td><td>0.1860  </td><td>0.2750  </td><td>0.08902 </td><td>NA      </td></tr>\n",
       "\t<tr><td>84300903</td><td>M       </td><td>19.69   </td><td>21.25   </td><td>130.00  </td><td>1203.0  </td><td>0.10960 </td><td>0.15990 </td><td>0.1974  </td><td>0.12790 </td><td>...     </td><td>25.53   </td><td>152.50  </td><td>1709.0  </td><td>0.1444  </td><td>0.4245  </td><td>0.4504  </td><td>0.2430  </td><td>0.3613  </td><td>0.08758 </td><td>NA      </td></tr>\n",
       "\t<tr><td>84348301</td><td>M       </td><td>11.42   </td><td>20.38   </td><td> 77.58  </td><td> 386.1  </td><td>0.14250 </td><td>0.28390 </td><td>0.2414  </td><td>0.10520 </td><td>...     </td><td>26.50   </td><td> 98.87  </td><td> 567.7  </td><td>0.2098  </td><td>0.8663  </td><td>0.6869  </td><td>0.2575  </td><td>0.6638  </td><td>0.17300 </td><td>NA      </td></tr>\n",
       "\t<tr><td>84358402</td><td>M       </td><td>20.29   </td><td>14.34   </td><td>135.10  </td><td>1297.0  </td><td>0.10030 </td><td>0.13280 </td><td>0.1980  </td><td>0.10430 </td><td>...     </td><td>16.67   </td><td>152.20  </td><td>1575.0  </td><td>0.1374  </td><td>0.2050  </td><td>0.4000  </td><td>0.1625  </td><td>0.2364  </td><td>0.07678 </td><td>NA      </td></tr>\n",
       "\t<tr><td>  843786</td><td>M       </td><td>12.45   </td><td>15.70   </td><td> 82.57  </td><td> 477.1  </td><td>0.12780 </td><td>0.17000 </td><td>0.1578  </td><td>0.08089 </td><td>...     </td><td>23.75   </td><td>103.40  </td><td> 741.6  </td><td>0.1791  </td><td>0.5249  </td><td>0.5355  </td><td>0.1741  </td><td>0.3985  </td><td>0.12440 </td><td>NA      </td></tr>\n",
       "</tbody>\n",
       "</table>\n"
      ],
      "text/latex": [
       "\\begin{tabular}{r|lllllllllllllllllllllllllllllllll}\n",
       " id & diagnosis & radius\\_mean & texture\\_mean & perimeter\\_mean & area\\_mean & smoothness\\_mean & compactness\\_mean & concavity\\_mean & concave.points\\_mean & ... & texture\\_worst & perimeter\\_worst & area\\_worst & smoothness\\_worst & compactness\\_worst & concavity\\_worst & concave.points\\_worst & symmetry\\_worst & fractal\\_dimension\\_worst & X\\\\\n",
       "\\hline\n",
       "\t   842302 & M        & 17.99    & 10.38    & 122.80   & 1001.0   & 0.11840  & 0.27760  & 0.3001   & 0.14710  & ...      & 17.33    & 184.60   & 2019.0   & 0.1622   & 0.6656   & 0.7119   & 0.2654   & 0.4601   & 0.11890  & NA      \\\\\n",
       "\t   842517 & M        & 20.57    & 17.77    & 132.90   & 1326.0   & 0.08474  & 0.07864  & 0.0869   & 0.07017  & ...      & 23.41    & 158.80   & 1956.0   & 0.1238   & 0.1866   & 0.2416   & 0.1860   & 0.2750   & 0.08902  & NA      \\\\\n",
       "\t 84300903 & M        & 19.69    & 21.25    & 130.00   & 1203.0   & 0.10960  & 0.15990  & 0.1974   & 0.12790  & ...      & 25.53    & 152.50   & 1709.0   & 0.1444   & 0.4245   & 0.4504   & 0.2430   & 0.3613   & 0.08758  & NA      \\\\\n",
       "\t 84348301 & M        & 11.42    & 20.38    &  77.58   &  386.1   & 0.14250  & 0.28390  & 0.2414   & 0.10520  & ...      & 26.50    &  98.87   &  567.7   & 0.2098   & 0.8663   & 0.6869   & 0.2575   & 0.6638   & 0.17300  & NA      \\\\\n",
       "\t 84358402 & M        & 20.29    & 14.34    & 135.10   & 1297.0   & 0.10030  & 0.13280  & 0.1980   & 0.10430  & ...      & 16.67    & 152.20   & 1575.0   & 0.1374   & 0.2050   & 0.4000   & 0.1625   & 0.2364   & 0.07678  & NA      \\\\\n",
       "\t   843786 & M        & 12.45    & 15.70    &  82.57   &  477.1   & 0.12780  & 0.17000  & 0.1578   & 0.08089  & ...      & 23.75    & 103.40   &  741.6   & 0.1791   & 0.5249   & 0.5355   & 0.1741   & 0.3985   & 0.12440  & NA      \\\\\n",
       "\\end{tabular}\n"
      ],
      "text/markdown": [
       "\n",
       "| id | diagnosis | radius_mean | texture_mean | perimeter_mean | area_mean | smoothness_mean | compactness_mean | concavity_mean | concave.points_mean | ... | texture_worst | perimeter_worst | area_worst | smoothness_worst | compactness_worst | concavity_worst | concave.points_worst | symmetry_worst | fractal_dimension_worst | X |\n",
       "|---|---|---|---|---|---|---|---|---|---|---|---|---|---|---|---|---|---|---|---|---|\n",
       "|   842302 | M        | 17.99    | 10.38    | 122.80   | 1001.0   | 0.11840  | 0.27760  | 0.3001   | 0.14710  | ...      | 17.33    | 184.60   | 2019.0   | 0.1622   | 0.6656   | 0.7119   | 0.2654   | 0.4601   | 0.11890  | NA       |\n",
       "|   842517 | M        | 20.57    | 17.77    | 132.90   | 1326.0   | 0.08474  | 0.07864  | 0.0869   | 0.07017  | ...      | 23.41    | 158.80   | 1956.0   | 0.1238   | 0.1866   | 0.2416   | 0.1860   | 0.2750   | 0.08902  | NA       |\n",
       "| 84300903 | M        | 19.69    | 21.25    | 130.00   | 1203.0   | 0.10960  | 0.15990  | 0.1974   | 0.12790  | ...      | 25.53    | 152.50   | 1709.0   | 0.1444   | 0.4245   | 0.4504   | 0.2430   | 0.3613   | 0.08758  | NA       |\n",
       "| 84348301 | M        | 11.42    | 20.38    |  77.58   |  386.1   | 0.14250  | 0.28390  | 0.2414   | 0.10520  | ...      | 26.50    |  98.87   |  567.7   | 0.2098   | 0.8663   | 0.6869   | 0.2575   | 0.6638   | 0.17300  | NA       |\n",
       "| 84358402 | M        | 20.29    | 14.34    | 135.10   | 1297.0   | 0.10030  | 0.13280  | 0.1980   | 0.10430  | ...      | 16.67    | 152.20   | 1575.0   | 0.1374   | 0.2050   | 0.4000   | 0.1625   | 0.2364   | 0.07678  | NA       |\n",
       "|   843786 | M        | 12.45    | 15.70    |  82.57   |  477.1   | 0.12780  | 0.17000  | 0.1578   | 0.08089  | ...      | 23.75    | 103.40   |  741.6   | 0.1791   | 0.5249   | 0.5355   | 0.1741   | 0.3985   | 0.12440  | NA       |\n",
       "\n"
      ],
      "text/plain": [
       "  id       diagnosis radius_mean texture_mean perimeter_mean area_mean\n",
       "1   842302 M         17.99       10.38        122.80         1001.0   \n",
       "2   842517 M         20.57       17.77        132.90         1326.0   \n",
       "3 84300903 M         19.69       21.25        130.00         1203.0   \n",
       "4 84348301 M         11.42       20.38         77.58          386.1   \n",
       "5 84358402 M         20.29       14.34        135.10         1297.0   \n",
       "6   843786 M         12.45       15.70         82.57          477.1   \n",
       "  smoothness_mean compactness_mean concavity_mean concave.points_mean ...\n",
       "1 0.11840         0.27760          0.3001         0.14710             ...\n",
       "2 0.08474         0.07864          0.0869         0.07017             ...\n",
       "3 0.10960         0.15990          0.1974         0.12790             ...\n",
       "4 0.14250         0.28390          0.2414         0.10520             ...\n",
       "5 0.10030         0.13280          0.1980         0.10430             ...\n",
       "6 0.12780         0.17000          0.1578         0.08089             ...\n",
       "  texture_worst perimeter_worst area_worst smoothness_worst compactness_worst\n",
       "1 17.33         184.60          2019.0     0.1622           0.6656           \n",
       "2 23.41         158.80          1956.0     0.1238           0.1866           \n",
       "3 25.53         152.50          1709.0     0.1444           0.4245           \n",
       "4 26.50          98.87           567.7     0.2098           0.8663           \n",
       "5 16.67         152.20          1575.0     0.1374           0.2050           \n",
       "6 23.75         103.40           741.6     0.1791           0.5249           \n",
       "  concavity_worst concave.points_worst symmetry_worst fractal_dimension_worst\n",
       "1 0.7119          0.2654               0.4601         0.11890                \n",
       "2 0.2416          0.1860               0.2750         0.08902                \n",
       "3 0.4504          0.2430               0.3613         0.08758                \n",
       "4 0.6869          0.2575               0.6638         0.17300                \n",
       "5 0.4000          0.1625               0.2364         0.07678                \n",
       "6 0.5355          0.1741               0.3985         0.12440                \n",
       "  X \n",
       "1 NA\n",
       "2 NA\n",
       "3 NA\n",
       "4 NA\n",
       "5 NA\n",
       "6 NA"
      ]
     },
     "metadata": {},
     "output_type": "display_data"
    }
   ],
   "source": [
    "#Load the data\n",
    "cancer = read.csv('C:/Users/andre/Downloads/data.csv')\n",
    "head(cancer)"
   ]
  },
  {
   "cell_type": "markdown",
   "id": "35368ef5",
   "metadata": {},
   "source": [
    "The last column contains rows of NA values, so we must drop the column."
   ]
  },
  {
   "cell_type": "code",
   "execution_count": 3,
   "id": "b382221d",
   "metadata": {
    "scrolled": true
   },
   "outputs": [],
   "source": [
    "cancer = select(cancer, -c(X)) #Using dplyr's select function"
   ]
  },
  {
   "cell_type": "code",
   "execution_count": 4,
   "id": "35500924",
   "metadata": {},
   "outputs": [
    {
     "data": {
      "text/html": [
       "<ol class=list-inline>\n",
       "\t<li>569</li>\n",
       "\t<li>32</li>\n",
       "</ol>\n"
      ],
      "text/latex": [
       "\\begin{enumerate*}\n",
       "\\item 569\n",
       "\\item 32\n",
       "\\end{enumerate*}\n"
      ],
      "text/markdown": [
       "1. 569\n",
       "2. 32\n",
       "\n",
       "\n"
      ],
      "text/plain": [
       "[1] 569  32"
      ]
     },
     "metadata": {},
     "output_type": "display_data"
    }
   ],
   "source": [
    "cancer = na.omit(cancer) #Omit any NA values\n",
    "\n",
    "dim(cancer) #Sanity check. There should only be 32 variables"
   ]
  },
  {
   "cell_type": "markdown",
   "id": "3fe66fb2",
   "metadata": {},
   "source": [
    "A random number was picked from 0 to 9999 using Google to ensure randomization. Then, we create training and test sets"
   ]
  },
  {
   "cell_type": "code",
   "execution_count": 5,
   "id": "f274c614",
   "metadata": {},
   "outputs": [],
   "source": [
    "set.seed(7315)\n",
    "tr = sample(1:nrow(cancer), size = .75*nrow(cancer), replace = FALSE)\n",
    "#75/25 split for training and testing data\n",
    "\n",
    "train = cancer[tr,]\n",
    "test = cancer[-tr,]"
   ]
  },
  {
   "cell_type": "code",
   "execution_count": 6,
   "id": "f1ea8459",
   "metadata": {},
   "outputs": [
    {
     "data": {
      "text/html": [
       "<table>\n",
       "<thead><tr><th></th><th scope=col>id</th><th scope=col>diagnosis</th><th scope=col>radius_mean</th><th scope=col>texture_mean</th><th scope=col>perimeter_mean</th><th scope=col>area_mean</th><th scope=col>smoothness_mean</th><th scope=col>compactness_mean</th><th scope=col>concavity_mean</th><th scope=col>concave.points_mean</th><th scope=col>...</th><th scope=col>radius_worst</th><th scope=col>texture_worst</th><th scope=col>perimeter_worst</th><th scope=col>area_worst</th><th scope=col>smoothness_worst</th><th scope=col>compactness_worst</th><th scope=col>concavity_worst</th><th scope=col>concave.points_worst</th><th scope=col>symmetry_worst</th><th scope=col>fractal_dimension_worst</th></tr></thead>\n",
       "<tbody>\n",
       "\t<tr><th scope=row>466</th><td>9113239 </td><td>B       </td><td>13.24   </td><td>20.13   </td><td> 86.87  </td><td> 542.9  </td><td>0.08284 </td><td>0.12230 </td><td>0.101000</td><td>0.02833 </td><td>...     </td><td>15.44   </td><td>25.50   </td><td>115.0   </td><td> 733.5  </td><td>0.1201  </td><td>0.56460 </td><td>0.65560 </td><td>0.1357  </td><td>0.2845  </td><td>0.12490 </td></tr>\n",
       "\t<tr><th scope=row>501</th><td> 914862 </td><td>B       </td><td>15.04   </td><td>16.74   </td><td> 98.73  </td><td> 689.4  </td><td>0.09883 </td><td>0.13640 </td><td>0.077210</td><td>0.06142 </td><td>...     </td><td>16.76   </td><td>20.43   </td><td>109.7   </td><td> 856.9  </td><td>0.1135  </td><td>0.21760 </td><td>0.18560 </td><td>0.1018  </td><td>0.2177  </td><td>0.08549 </td></tr>\n",
       "\t<tr><th scope=row>191</th><td> 874858 </td><td>M       </td><td>14.22   </td><td>23.12   </td><td> 94.37  </td><td> 609.9  </td><td>0.10750 </td><td>0.24130 </td><td>0.198100</td><td>0.06618 </td><td>...     </td><td>15.74   </td><td>37.18   </td><td>106.4   </td><td> 762.4  </td><td>0.1533  </td><td>0.93270 </td><td>0.84880 </td><td>0.1772  </td><td>0.5166  </td><td>0.14460 </td></tr>\n",
       "\t<tr><th scope=row>341</th><td>  89813 </td><td>B       </td><td>14.42   </td><td>16.54   </td><td> 94.15  </td><td> 641.2  </td><td>0.09751 </td><td>0.11390 </td><td>0.080070</td><td>0.04223 </td><td>...     </td><td>16.67   </td><td>21.51   </td><td>111.4   </td><td> 862.1  </td><td>0.1294  </td><td>0.33710 </td><td>0.37550 </td><td>0.1414  </td><td>0.3053  </td><td>0.08764 </td></tr>\n",
       "\t<tr><th scope=row>180</th><td> 873586 </td><td>B       </td><td>12.81   </td><td>13.06   </td><td> 81.29  </td><td> 508.8  </td><td>0.08739 </td><td>0.03774 </td><td>0.009193</td><td>0.01330 </td><td>...     </td><td>13.63   </td><td>16.15   </td><td> 86.7   </td><td> 570.7  </td><td>0.1162  </td><td>0.05445 </td><td>0.02758 </td><td>0.0399  </td><td>0.1783  </td><td>0.07319 </td></tr>\n",
       "\t<tr><th scope=row>340</th><td>  89812 </td><td>M       </td><td>23.51   </td><td>24.27   </td><td>155.10  </td><td>1747.0  </td><td>0.10690 </td><td>0.12830 </td><td>0.230800</td><td>0.14100 </td><td>...     </td><td>30.67   </td><td>30.73   </td><td>202.4   </td><td>2906.0  </td><td>0.1515  </td><td>0.26780 </td><td>0.48190 </td><td>0.2089  </td><td>0.2593  </td><td>0.07738 </td></tr>\n",
       "</tbody>\n",
       "</table>\n"
      ],
      "text/latex": [
       "\\begin{tabular}{r|llllllllllllllllllllllllllllllll}\n",
       "  & id & diagnosis & radius\\_mean & texture\\_mean & perimeter\\_mean & area\\_mean & smoothness\\_mean & compactness\\_mean & concavity\\_mean & concave.points\\_mean & ... & radius\\_worst & texture\\_worst & perimeter\\_worst & area\\_worst & smoothness\\_worst & compactness\\_worst & concavity\\_worst & concave.points\\_worst & symmetry\\_worst & fractal\\_dimension\\_worst\\\\\n",
       "\\hline\n",
       "\t466 & 9113239  & B        & 13.24    & 20.13    &  86.87   &  542.9   & 0.08284  & 0.12230  & 0.101000 & 0.02833  & ...      & 15.44    & 25.50    & 115.0    &  733.5   & 0.1201   & 0.56460  & 0.65560  & 0.1357   & 0.2845   & 0.12490 \\\\\n",
       "\t501 &  914862  & B        & 15.04    & 16.74    &  98.73   &  689.4   & 0.09883  & 0.13640  & 0.077210 & 0.06142  & ...      & 16.76    & 20.43    & 109.7    &  856.9   & 0.1135   & 0.21760  & 0.18560  & 0.1018   & 0.2177   & 0.08549 \\\\\n",
       "\t191 &  874858  & M        & 14.22    & 23.12    &  94.37   &  609.9   & 0.10750  & 0.24130  & 0.198100 & 0.06618  & ...      & 15.74    & 37.18    & 106.4    &  762.4   & 0.1533   & 0.93270  & 0.84880  & 0.1772   & 0.5166   & 0.14460 \\\\\n",
       "\t341 &   89813  & B        & 14.42    & 16.54    &  94.15   &  641.2   & 0.09751  & 0.11390  & 0.080070 & 0.04223  & ...      & 16.67    & 21.51    & 111.4    &  862.1   & 0.1294   & 0.33710  & 0.37550  & 0.1414   & 0.3053   & 0.08764 \\\\\n",
       "\t180 &  873586  & B        & 12.81    & 13.06    &  81.29   &  508.8   & 0.08739  & 0.03774  & 0.009193 & 0.01330  & ...      & 13.63    & 16.15    &  86.7    &  570.7   & 0.1162   & 0.05445  & 0.02758  & 0.0399   & 0.1783   & 0.07319 \\\\\n",
       "\t340 &   89812  & M        & 23.51    & 24.27    & 155.10   & 1747.0   & 0.10690  & 0.12830  & 0.230800 & 0.14100  & ...      & 30.67    & 30.73    & 202.4    & 2906.0   & 0.1515   & 0.26780  & 0.48190  & 0.2089   & 0.2593   & 0.07738 \\\\\n",
       "\\end{tabular}\n"
      ],
      "text/markdown": [
       "\n",
       "| <!--/--> | id | diagnosis | radius_mean | texture_mean | perimeter_mean | area_mean | smoothness_mean | compactness_mean | concavity_mean | concave.points_mean | ... | radius_worst | texture_worst | perimeter_worst | area_worst | smoothness_worst | compactness_worst | concavity_worst | concave.points_worst | symmetry_worst | fractal_dimension_worst |\n",
       "|---|---|---|---|---|---|---|---|---|---|---|---|---|---|---|---|---|---|---|---|---|---|\n",
       "| 466 | 9113239  | B        | 13.24    | 20.13    |  86.87   |  542.9   | 0.08284  | 0.12230  | 0.101000 | 0.02833  | ...      | 15.44    | 25.50    | 115.0    |  733.5   | 0.1201   | 0.56460  | 0.65560  | 0.1357   | 0.2845   | 0.12490  |\n",
       "| 501 |  914862  | B        | 15.04    | 16.74    |  98.73   |  689.4   | 0.09883  | 0.13640  | 0.077210 | 0.06142  | ...      | 16.76    | 20.43    | 109.7    |  856.9   | 0.1135   | 0.21760  | 0.18560  | 0.1018   | 0.2177   | 0.08549  |\n",
       "| 191 |  874858  | M        | 14.22    | 23.12    |  94.37   |  609.9   | 0.10750  | 0.24130  | 0.198100 | 0.06618  | ...      | 15.74    | 37.18    | 106.4    |  762.4   | 0.1533   | 0.93270  | 0.84880  | 0.1772   | 0.5166   | 0.14460  |\n",
       "| 341 |   89813  | B        | 14.42    | 16.54    |  94.15   |  641.2   | 0.09751  | 0.11390  | 0.080070 | 0.04223  | ...      | 16.67    | 21.51    | 111.4    |  862.1   | 0.1294   | 0.33710  | 0.37550  | 0.1414   | 0.3053   | 0.08764  |\n",
       "| 180 |  873586  | B        | 12.81    | 13.06    |  81.29   |  508.8   | 0.08739  | 0.03774  | 0.009193 | 0.01330  | ...      | 13.63    | 16.15    |  86.7    |  570.7   | 0.1162   | 0.05445  | 0.02758  | 0.0399   | 0.1783   | 0.07319  |\n",
       "| 340 |   89812  | M        | 23.51    | 24.27    | 155.10   | 1747.0   | 0.10690  | 0.12830  | 0.230800 | 0.14100  | ...      | 30.67    | 30.73    | 202.4    | 2906.0   | 0.1515   | 0.26780  | 0.48190  | 0.2089   | 0.2593   | 0.07738  |\n",
       "\n"
      ],
      "text/plain": [
       "    id      diagnosis radius_mean texture_mean perimeter_mean area_mean\n",
       "466 9113239 B         13.24       20.13         86.87          542.9   \n",
       "501  914862 B         15.04       16.74         98.73          689.4   \n",
       "191  874858 M         14.22       23.12         94.37          609.9   \n",
       "341   89813 B         14.42       16.54         94.15          641.2   \n",
       "180  873586 B         12.81       13.06         81.29          508.8   \n",
       "340   89812 M         23.51       24.27        155.10         1747.0   \n",
       "    smoothness_mean compactness_mean concavity_mean concave.points_mean ...\n",
       "466 0.08284         0.12230          0.101000       0.02833             ...\n",
       "501 0.09883         0.13640          0.077210       0.06142             ...\n",
       "191 0.10750         0.24130          0.198100       0.06618             ...\n",
       "341 0.09751         0.11390          0.080070       0.04223             ...\n",
       "180 0.08739         0.03774          0.009193       0.01330             ...\n",
       "340 0.10690         0.12830          0.230800       0.14100             ...\n",
       "    radius_worst texture_worst perimeter_worst area_worst smoothness_worst\n",
       "466 15.44        25.50         115.0            733.5     0.1201          \n",
       "501 16.76        20.43         109.7            856.9     0.1135          \n",
       "191 15.74        37.18         106.4            762.4     0.1533          \n",
       "341 16.67        21.51         111.4            862.1     0.1294          \n",
       "180 13.63        16.15          86.7            570.7     0.1162          \n",
       "340 30.67        30.73         202.4           2906.0     0.1515          \n",
       "    compactness_worst concavity_worst concave.points_worst symmetry_worst\n",
       "466 0.56460           0.65560         0.1357               0.2845        \n",
       "501 0.21760           0.18560         0.1018               0.2177        \n",
       "191 0.93270           0.84880         0.1772               0.5166        \n",
       "341 0.33710           0.37550         0.1414               0.3053        \n",
       "180 0.05445           0.02758         0.0399               0.1783        \n",
       "340 0.26780           0.48190         0.2089               0.2593        \n",
       "    fractal_dimension_worst\n",
       "466 0.12490                \n",
       "501 0.08549                \n",
       "191 0.14460                \n",
       "341 0.08764                \n",
       "180 0.07319                \n",
       "340 0.07738                "
      ]
     },
     "metadata": {},
     "output_type": "display_data"
    }
   ],
   "source": [
    "head(train) #Ensure that the data looks as expected."
   ]
  },
  {
   "cell_type": "code",
   "execution_count": 7,
   "id": "0188cc04",
   "metadata": {},
   "outputs": [],
   "source": [
    "#Creating variables for logistic regression\n",
    "\n",
    "y = train$diagnosis\n",
    "x = train[ ,!(names(train) %in% c(\"id\",'diagnosis'))] #exclude ID and diagnosis"
   ]
  },
  {
   "cell_type": "code",
   "execution_count": 8,
   "id": "27437d20",
   "metadata": {
    "scrolled": true
   },
   "outputs": [
    {
     "name": "stdout",
     "output_type": "stream",
     "text": [
      "'data.frame':\t426 obs. of  30 variables:\n",
      " $ radius_mean            : num  13.2 15 14.2 14.4 12.8 ...\n",
      " $ texture_mean           : num  20.1 16.7 23.1 16.5 13.1 ...\n",
      " $ perimeter_mean         : num  86.9 98.7 94.4 94.2 81.3 ...\n",
      " $ area_mean              : num  543 689 610 641 509 ...\n",
      " $ smoothness_mean        : num  0.0828 0.0988 0.1075 0.0975 0.0874 ...\n",
      " $ compactness_mean       : num  0.1223 0.1364 0.2413 0.1139 0.0377 ...\n",
      " $ concavity_mean         : num  0.101 0.07721 0.1981 0.08007 0.00919 ...\n",
      " $ concave.points_mean    : num  0.0283 0.0614 0.0662 0.0422 0.0133 ...\n",
      " $ symmetry_mean          : num  0.16 0.167 0.238 0.191 0.147 ...\n",
      " $ fractal_dimension_mean : num  0.0643 0.0687 0.0754 0.0641 0.0613 ...\n",
      " $ radius_se              : num  0.281 0.372 0.286 0.349 0.289 ...\n",
      " $ texture_se             : num  0.814 0.842 2.11 0.771 0.99 ...\n",
      " $ perimeter_se           : num  3.37 2.3 2.11 2.68 1.78 ...\n",
      " $ area_se                : num  23.8 34.8 31.7 32.1 21.8 ...\n",
      " $ smoothness_se          : num  0.00493 0.00412 0.00797 0.00458 0.00853 ...\n",
      " $ compactness_se         : num  0.06657 0.01819 0.1354 0.03053 0.00636 ...\n",
      " $ concavity_se           : num  0.07683 0.01996 0.1166 0.0384 0.00618 ...\n",
      " $ concave.points_se      : num  0.01368 0.01004 0.01666 0.01243 0.00741 ...\n",
      " $ symmetry_se            : num  0.0153 0.0106 0.0511 0.0187 0.0106 ...\n",
      " $ fractal_dimension_se   : num  0.00813 0.00324 0.01172 0.00337 0.00335 ...\n",
      " $ radius_worst           : num  15.4 16.8 15.7 16.7 13.6 ...\n",
      " $ texture_worst          : num  25.5 20.4 37.2 21.5 16.1 ...\n",
      " $ perimeter_worst        : num  115 109.7 106.4 111.4 86.7 ...\n",
      " $ area_worst             : num  734 857 762 862 571 ...\n",
      " $ smoothness_worst       : num  0.12 0.114 0.153 0.129 0.116 ...\n",
      " $ compactness_worst      : num  0.5646 0.2176 0.9327 0.3371 0.0544 ...\n",
      " $ concavity_worst        : num  0.6556 0.1856 0.8488 0.3755 0.0276 ...\n",
      " $ concave.points_worst   : num  0.1357 0.1018 0.1772 0.1414 0.0399 ...\n",
      " $ symmetry_worst         : num  0.284 0.218 0.517 0.305 0.178 ...\n",
      " $ fractal_dimension_worst: num  0.1249 0.0855 0.1446 0.0876 0.0732 ...\n"
     ]
    }
   ],
   "source": [
    "str(x)"
   ]
  },
  {
   "cell_type": "markdown",
   "id": "c1c3e227",
   "metadata": {},
   "source": [
    "All variables appear to be numeric. If categorical variables were in the data, they would have to be manipulated."
   ]
  },
  {
   "cell_type": "code",
   "execution_count": 9,
   "id": "8e3ef7c9",
   "metadata": {},
   "outputs": [
    {
     "data": {
      "text/html": [
       "'list'"
      ],
      "text/latex": [
       "'list'"
      ],
      "text/markdown": [
       "'list'"
      ],
      "text/plain": [
       "[1] \"list\""
      ]
     },
     "metadata": {},
     "output_type": "display_data"
    },
    {
     "data": {
      "text/html": [
       "'integer'"
      ],
      "text/latex": [
       "'integer'"
      ],
      "text/markdown": [
       "'integer'"
      ],
      "text/plain": [
       "[1] \"integer\""
      ]
     },
     "metadata": {},
     "output_type": "display_data"
    }
   ],
   "source": [
    "typeof(x)\n",
    "typeof(y)"
   ]
  },
  {
   "cell_type": "markdown",
   "id": "5308a78f",
   "metadata": {},
   "source": [
    "Variable **x** must be a matrix first. Then, we create the plots of ridge regression."
   ]
  },
  {
   "cell_type": "code",
   "execution_count": 10,
   "id": "dba35fb5",
   "metadata": {},
   "outputs": [],
   "source": [
    "x = model.matrix( ~ . , data=x)[,-1]\n",
    "#We get rid of the first column since that will only be filled with 1's and not useful predictors"
   ]
  },
  {
   "cell_type": "code",
   "execution_count": 11,
   "id": "6cfecdb2",
   "metadata": {
    "scrolled": true
   },
   "outputs": [
    {
     "data": {
      "image/png": "[encoded data removed]",
      "text/plain": [
       "plot without title"
      ]
     },
     "metadata": {},
     "output_type": "display_data"
    }
   ],
   "source": [
    "setLambda = seq(0,1,by=0.005) #To visualize all lambda values\n",
    "\n",
    "fit = cv.glmnet(x, y, family='binomial', lambda=setLambda, type.measure='deviance', nfolds = 10, alpha = 0) \n",
    "#Cross-validating with 10 folds\n",
    "#Ridge is 0, Lasso is 1 for alpha value\n",
    "\n",
    "plot(fit)"
   ]
  },
  {
   "cell_type": "code",
   "execution_count": 12,
   "id": "aaed10d5",
   "metadata": {
    "scrolled": false
   },
   "outputs": [
    {
     "data": {
      "image/png": "[encoded data removed]",
      "text/plain": [
       "plot without title"
      ]
     },
     "metadata": {},
     "output_type": "display_data"
    }
   ],
   "source": [
    "fit = cv.glmnet(x, y, family='binomial', lambda=setLambda, type.measure='mse', nfolds = 10, alpha = 0)\n",
    "#using measure MSE instead\n",
    "\n",
    "\n",
    "plot(fit)"
   ]
  },
  {
   "cell_type": "markdown",
   "id": "158a4974",
   "metadata": {},
   "source": [
    "From left to right, the two vertical lines show the minimum and 1se lambda value, respectively. It's recommended to use the 1se value since the minimum value will usually be too optimized for the in-sample data. Though we are increasing the error by just a small amount, we are making the model more pasrsimonious, or simple, for this small cost. It's a beneficial trade-off.\n",
    "\n",
    "Next, let's examine the coefficients and parameters."
   ]
  },
  {
   "cell_type": "code",
   "execution_count": 13,
   "id": "7e8e1447",
   "metadata": {},
   "outputs": [
    {
     "data": {
      "text/html": [
       "0.005"
      ],
      "text/latex": [
       "0.005"
      ],
      "text/markdown": [
       "0.005"
      ],
      "text/plain": [
       "[1] 0.005"
      ]
     },
     "metadata": {},
     "output_type": "display_data"
    }
   ],
   "source": [
    "fit$lambda.min"
   ]
  },
  {
   "cell_type": "code",
   "execution_count": 14,
   "id": "3ad8ba89",
   "metadata": {},
   "outputs": [
    {
     "data": {
      "text/html": [
       "0.02"
      ],
      "text/latex": [
       "0.02"
      ],
      "text/markdown": [
       "0.02"
      ],
      "text/plain": [
       "[1] 0.02"
      ]
     },
     "metadata": {},
     "output_type": "display_data"
    }
   ],
   "source": [
    "fit$lambda.1se #the coef(fit) in the following cell uses this value"
   ]
  },
  {
   "cell_type": "code",
   "execution_count": 15,
   "id": "84832e77",
   "metadata": {
    "scrolled": true
   },
   "outputs": [
    {
     "data": {
      "text/plain": [
       "31 x 1 sparse Matrix of class \"dgCMatrix\"\n",
       "                                    1\n",
       "(Intercept)             -1.991222e+01\n",
       "radius_mean              1.230550e-01\n",
       "texture_mean             1.017253e-01\n",
       "perimeter_mean           1.738101e-02\n",
       "area_mean                1.113960e-03\n",
       "smoothness_mean          1.753469e+01\n",
       "compactness_mean         9.985626e-01\n",
       "concavity_mean           4.822614e+00\n",
       "concave.points_mean      1.104247e+01\n",
       "symmetry_mean            2.285326e+00\n",
       "fractal_dimension_mean  -4.859386e+01\n",
       "radius_se                1.460087e+00\n",
       "texture_se              -1.982146e-01\n",
       "perimeter_se             1.489836e-01\n",
       "area_se                  6.780909e-03\n",
       "smoothness_se            2.641856e+01\n",
       "compactness_se          -1.260716e+01\n",
       "concavity_se            -7.219166e-01\n",
       "concave.points_se        2.079802e+01\n",
       "symmetry_se             -2.629677e+01\n",
       "fractal_dimension_se    -8.394284e+01\n",
       "radius_worst             1.031453e-01\n",
       "texture_worst            8.855754e-02\n",
       "perimeter_worst          1.372855e-02\n",
       "area_worst               7.508067e-04\n",
       "smoothness_worst         2.329557e+01\n",
       "compactness_worst        8.777027e-01\n",
       "concavity_worst          1.914035e+00\n",
       "concave.points_worst     7.204819e+00\n",
       "symmetry_worst           5.604728e+00\n",
       "fractal_dimension_worst  5.439732e+00"
      ]
     },
     "metadata": {},
     "output_type": "display_data"
    }
   ],
   "source": [
    "coef(fit)"
   ]
  },
  {
   "cell_type": "markdown",
   "id": "48a263db",
   "metadata": {},
   "source": [
    "As was discussed in the methodology section, the parameters are penalized for being too large at times. When they do get penalized, they never truly reach 0, but values very close to it. This is unlike lasso regularization, which will be shown in a moment.\n",
    "\n",
    "Let's create the test set now. 25% of the data was randomized for this purpose."
   ]
  },
  {
   "cell_type": "code",
   "execution_count": 16,
   "id": "d9d0f7c5",
   "metadata": {},
   "outputs": [
    {
     "data": {
      "text/html": [
       "0.251318101933216"
      ],
      "text/latex": [
       "0.251318101933216"
      ],
      "text/markdown": [
       "0.251318101933216"
      ],
      "text/plain": [
       "[1] 0.2513181"
      ]
     },
     "metadata": {},
     "output_type": "display_data"
    },
    {
     "data": {
      "text/html": [
       "<ol class=list-inline>\n",
       "\t<li>143</li>\n",
       "\t<li>30</li>\n",
       "</ol>\n"
      ],
      "text/latex": [
       "\\begin{enumerate*}\n",
       "\\item 143\n",
       "\\item 30\n",
       "\\end{enumerate*}\n"
      ],
      "text/markdown": [
       "1. 143\n",
       "2. 30\n",
       "\n",
       "\n"
      ],
      "text/plain": [
       "[1] 143  30"
      ]
     },
     "metadata": {},
     "output_type": "display_data"
    }
   ],
   "source": [
    "y_test = test$diagnosis\n",
    "x_test = test[, !(names(test) %in% c('id','diagnosis'))]\n",
    "\n",
    "x_test = model.matrix( ~ ., data=x_test)[,-1]\n",
    "pihat = predict(object=fit, newx = x_test, type='response') #using the ridge regression training data on the test set\n",
    "\n",
    "#The following are used to ensure the results are what we expect.\n",
    "length(pihat)/nrow(cancer) \n",
    "dim(x_test)"
   ]
  },
  {
   "cell_type": "markdown",
   "id": "3c6529cf",
   "metadata": {},
   "source": [
    "The above results look as expected. Now, we plot the ROC curve."
   ]
  },
  {
   "cell_type": "code",
   "execution_count": 17,
   "id": "eec1b49d",
   "metadata": {},
   "outputs": [
    {
     "name": "stderr",
     "output_type": "stream",
     "text": [
      "Setting levels: control = FALSE, case = TRUE\n",
      "Warning message in roc.default(response = ylogical, predictor = pihat):\n",
      "\"Deprecated use a matrix as predictor. Unexpected results may be produced, please pass a numeric vector.\"Setting direction: controls < cases\n"
     ]
    },
    {
     "data": {
      "image/png": "[encoded data removed]",
      "text/plain": [
       "Plot with title \"AUC value =  0.99\""
      ]
     },
     "metadata": {},
     "output_type": "display_data"
    }
   ],
   "source": [
    "ylogical = (y_test == 'M') \n",
    "curveROC = roc(response = ylogical, predictor = pihat)\n",
    "AUC = auc(curveROC)\n",
    "\n",
    "plot(x = curveROC$specificities, y = curveROC$sensitivities, main=paste('AUC value = ',round(AUC,2)),\n",
    "    xlab = 'Specificity', ylab = 'Sensitivity', xlim = c(1,0), type='l', col='blue')\n",
    "abline(a=1,b=-1,lty=\"dashed\") #the diagonal line"
   ]
  },
  {
   "cell_type": "markdown",
   "id": "294ec717",
   "metadata": {},
   "source": [
    "The above ROC curve is the closest to ideal that one may achieve. The diagonal line is not what we wish to emulate; the diagonal line is a result that has no predictive power. Essentially it means that specificity and sensitivity overlap so much that it is due to a 50/50 chance that one will test positive given they have the disease, or one will not test negative given they do not have the disease. The blue curve is what is desired. It illustrates that there is generally no overlap between sensitivity and specificity. Thus, the diagnosis is very, very good based on the AUC result, which measures how well the ROC curve fit is.\n",
    "\n",
    "We'll examine the proportions next"
   ]
  },
  {
   "cell_type": "code",
   "execution_count": 18,
   "id": "436cf05c",
   "metadata": {},
   "outputs": [
    {
     "data": {
      "text/plain": [
       "    y_test\n",
       "yhat  B  M\n",
       "   B 91  3\n",
       "   M  0 49"
      ]
     },
     "metadata": {},
     "output_type": "display_data"
    }
   ],
   "source": [
    "yhat = ifelse(pihat > 0.5,'M','B')\n",
    "\n",
    "tbl = table(yhat, y_test) #confusion matrix. Top left and bottom right are correctly predicted results\n",
    "tbl"
   ]
  },
  {
   "cell_type": "code",
   "execution_count": 19,
   "id": "8c60f630",
   "metadata": {},
   "outputs": [
    {
     "data": {
      "text/html": [
       "0.0576923076923077"
      ],
      "text/latex": [
       "0.0576923076923077"
      ],
      "text/markdown": [
       "0.0576923076923077"
      ],
      "text/plain": [
       "[1] 0.05769231"
      ]
     },
     "metadata": {},
     "output_type": "display_data"
    }
   ],
   "source": [
    "#False positive rate\n",
    "tbl[1,2]/sum(tbl[,2])"
   ]
  },
  {
   "cell_type": "code",
   "execution_count": 20,
   "id": "34aac166",
   "metadata": {},
   "outputs": [],
   "source": [
    "ridgeSens = tbl[2,2]/sum(tbl[,2]) #will be used for later"
   ]
  },
  {
   "cell_type": "code",
   "execution_count": 21,
   "id": "0d4565dd",
   "metadata": {},
   "outputs": [],
   "source": [
    "#accuracy\n",
    "ridgeAccuracy = (tbl[1,1] + tbl[2,2])/sum(tbl) #used for comparison later"
   ]
  },
  {
   "cell_type": "markdown",
   "id": "46bd5d92",
   "metadata": {},
   "source": [
    "### Lasso Regularization"
   ]
  },
  {
   "cell_type": "markdown",
   "id": "41ae9702",
   "metadata": {},
   "source": [
    "The steps required for lasso regularization are exactly the same as those done in ridge regularization. We begin with a plot."
   ]
  },
  {
   "cell_type": "code",
   "execution_count": 22,
   "id": "b7d7df29",
   "metadata": {},
   "outputs": [
    {
     "data": {
      "image/png": "[encoded data removed]",
      "text/plain": [
       "plot without title"
      ]
     },
     "metadata": {},
     "output_type": "display_data"
    }
   ],
   "source": [
    "lassoFit = cv.glmnet(x,y, family = 'binomial', lambda = setLambda, type.measure='deviance', nfolds = 10, alpha = 1)\n",
    "plot(lassoFit)"
   ]
  },
  {
   "cell_type": "code",
   "execution_count": 23,
   "id": "e7c5c7a4",
   "metadata": {
    "scrolled": true
   },
   "outputs": [
    {
     "data": {
      "text/plain": [
       "31 x 1 sparse Matrix of class \"dgCMatrix\"\n",
       "                                   1\n",
       "(Intercept)             -22.72149136\n",
       "radius_mean               .         \n",
       "texture_mean              0.06919164\n",
       "perimeter_mean            .         \n",
       "area_mean                 .         \n",
       "smoothness_mean           .         \n",
       "compactness_mean          .         \n",
       "concavity_mean            .         \n",
       "concave.points_mean      12.91834967\n",
       "symmetry_mean             .         \n",
       "fractal_dimension_mean    .         \n",
       "radius_se                 1.67386647\n",
       "texture_se                .         \n",
       "perimeter_se              .         \n",
       "area_se                   .         \n",
       "smoothness_se             .         \n",
       "compactness_se            .         \n",
       "concavity_se              .         \n",
       "concave.points_se         .         \n",
       "symmetry_se               .         \n",
       "fractal_dimension_se      .         \n",
       "radius_worst              0.66633742\n",
       "texture_worst             0.10092208\n",
       "perimeter_worst           .         \n",
       "area_worst                .         \n",
       "smoothness_worst         32.13800426\n",
       "compactness_worst         .         \n",
       "concavity_worst           1.29691248\n",
       "concave.points_worst     11.78939844\n",
       "symmetry_worst            .         \n",
       "fractal_dimension_worst   .         "
      ]
     },
     "metadata": {},
     "output_type": "display_data"
    }
   ],
   "source": [
    "coef(lassoFit)"
   ]
  },
  {
   "cell_type": "markdown",
   "id": "2ca9c3d9",
   "metadata": {},
   "source": [
    "Many variables were removed. This highlights the usefulness of this method as a variable selection method as well."
   ]
  },
  {
   "cell_type": "code",
   "execution_count": 24,
   "id": "ef2d7295",
   "metadata": {},
   "outputs": [
    {
     "data": {
      "text/plain": [
       "NULL"
      ]
     },
     "metadata": {},
     "output_type": "display_data"
    },
    {
     "data": {
      "text/html": [
       "0.01"
      ],
      "text/latex": [
       "0.01"
      ],
      "text/markdown": [
       "0.01"
      ],
      "text/plain": [
       "[1] 0.01"
      ]
     },
     "metadata": {},
     "output_type": "display_data"
    }
   ],
   "source": [
    "lassoFit$lamba.min\n",
    "\n",
    "lassoFit$lambda.1se"
   ]
  },
  {
   "cell_type": "code",
   "execution_count": 25,
   "id": "78943dd5",
   "metadata": {},
   "outputs": [],
   "source": [
    "#Use the y_test and x_test from last time, but change the pihat\n",
    "\n",
    "pihat_2 = predict(object = lassoFit, type='response', newx = x_test)"
   ]
  },
  {
   "cell_type": "code",
   "execution_count": 26,
   "id": "cccd2e0c",
   "metadata": {},
   "outputs": [
    {
     "name": "stderr",
     "output_type": "stream",
     "text": [
      "Setting levels: control = FALSE, case = TRUE\n",
      "Warning message in roc.default(response = ylogical, predictor = pihat_2):\n",
      "\"Deprecated use a matrix as predictor. Unexpected results may be produced, please pass a numeric vector.\"Setting direction: controls < cases\n"
     ]
    },
    {
     "data": {
      "image/png": "[encoded data removed]",
      "text/plain": [
       "Plot with title \"AUC =  0.99\""
      ]
     },
     "metadata": {},
     "output_type": "display_data"
    }
   ],
   "source": [
    "ylogical = (y_test == 'M')\n",
    "ROC = roc(response = ylogical, predictor = pihat_2)\n",
    "AUC = auc(ROC)\n",
    "\n",
    "plot(x=ROC$specificities, y=ROC$sensitivities, \n",
    "    xlab = 'Specificity', ylab = 'Sensitivity', main = paste('AUC = ',round(AUC,2)), type='l',\n",
    "    col = 'green')\n",
    "abline(a=1,b=-1,lty=\"dashed\") #the diagonal line"
   ]
  },
  {
   "cell_type": "code",
   "execution_count": 27,
   "id": "746b1f2a",
   "metadata": {},
   "outputs": [],
   "source": [
    "yhat = ifelse(pihat_2 > 0.5,'M','B')"
   ]
  },
  {
   "cell_type": "code",
   "execution_count": 28,
   "id": "6596fa10",
   "metadata": {},
   "outputs": [
    {
     "data": {
      "text/plain": [
       "    y_test\n",
       "yhat  B  M\n",
       "   B 91  4\n",
       "   M  0 48"
      ]
     },
     "metadata": {},
     "output_type": "display_data"
    }
   ],
   "source": [
    "table = table(yhat, y_test)\n",
    "table #Lasso confusion matrix"
   ]
  },
  {
   "cell_type": "code",
   "execution_count": 29,
   "id": "e4306db8",
   "metadata": {},
   "outputs": [],
   "source": [
    "lassoAccuracy = (table[1,1] + table[2,2])/sum(table)"
   ]
  },
  {
   "cell_type": "code",
   "execution_count": 30,
   "id": "fc88506e",
   "metadata": {
    "scrolled": true
   },
   "outputs": [
    {
     "data": {
      "text/html": [
       "0.0769230769230769"
      ],
      "text/latex": [
       "0.0769230769230769"
      ],
      "text/markdown": [
       "0.0769230769230769"
      ],
      "text/plain": [
       "[1] 0.07692308"
      ]
     },
     "metadata": {},
     "output_type": "display_data"
    }
   ],
   "source": [
    "#FNR \n",
    "(table[1,2])/sum(table[,2]) #Slightly higher than ridge regression"
   ]
  },
  {
   "cell_type": "code",
   "execution_count": 31,
   "id": "21682847",
   "metadata": {},
   "outputs": [],
   "source": [
    "lassoSens = table[2,2]/sum(table[,2])"
   ]
  },
  {
   "cell_type": "markdown",
   "id": "1831af4d",
   "metadata": {},
   "source": [
    "### Classification Tree"
   ]
  },
  {
   "cell_type": "markdown",
   "id": "ae2127ab",
   "metadata": {},
   "source": [
    "Let us move on to the tree method. The sensitivities and total accuracy results will be compared at the end."
   ]
  },
  {
   "cell_type": "code",
   "execution_count": 32,
   "id": "00ad7550",
   "metadata": {},
   "outputs": [
    {
     "name": "stderr",
     "output_type": "stream",
     "text": [
      "Warning message:\n",
      "\"package 'tree' was built under R version 3.6.3\""
     ]
    }
   ],
   "source": [
    "library(tree) #Essential package for this task"
   ]
  },
  {
   "cell_type": "code",
   "execution_count": 33,
   "id": "f20a82e0",
   "metadata": {},
   "outputs": [
    {
     "data": {
      "text/html": [
       "<table>\n",
       "<thead><tr><th scope=col>diagnosis</th><th scope=col>r_mean</th><th scope=col>t_mean</th><th scope=col>p_mean</th><th scope=col>a_mean</th><th scope=col>s_mean</th><th scope=col>c_mean</th><th scope=col>con_mean</th><th scope=col>cpoints_mean</th><th scope=col>sym_mean</th><th scope=col>...</th><th scope=col>r_worst</th><th scope=col>t_worst</th><th scope=col>p_worst</th><th scope=col>a_worst</th><th scope=col>s_worst</th><th scope=col>c_worst</th><th scope=col>con_worst</th><th scope=col>c_points_w</th><th scope=col>sym_worst</th><th scope=col>f_dim_w</th></tr></thead>\n",
       "<tbody>\n",
       "\t<tr><td>M      </td><td>17.99  </td><td>10.38  </td><td>122.80 </td><td>1001.0 </td><td>0.11840</td><td>0.27760</td><td>0.3001 </td><td>0.14710</td><td>0.2419 </td><td>...    </td><td>25.38  </td><td>17.33  </td><td>184.60 </td><td>2019.0 </td><td>0.1622 </td><td>0.6656 </td><td>0.7119 </td><td>0.2654 </td><td>0.4601 </td><td>0.11890</td></tr>\n",
       "\t<tr><td>M      </td><td>20.57  </td><td>17.77  </td><td>132.90 </td><td>1326.0 </td><td>0.08474</td><td>0.07864</td><td>0.0869 </td><td>0.07017</td><td>0.1812 </td><td>...    </td><td>24.99  </td><td>23.41  </td><td>158.80 </td><td>1956.0 </td><td>0.1238 </td><td>0.1866 </td><td>0.2416 </td><td>0.1860 </td><td>0.2750 </td><td>0.08902</td></tr>\n",
       "\t<tr><td>M      </td><td>19.69  </td><td>21.25  </td><td>130.00 </td><td>1203.0 </td><td>0.10960</td><td>0.15990</td><td>0.1974 </td><td>0.12790</td><td>0.2069 </td><td>...    </td><td>23.57  </td><td>25.53  </td><td>152.50 </td><td>1709.0 </td><td>0.1444 </td><td>0.4245 </td><td>0.4504 </td><td>0.2430 </td><td>0.3613 </td><td>0.08758</td></tr>\n",
       "\t<tr><td>M      </td><td>11.42  </td><td>20.38  </td><td> 77.58 </td><td> 386.1 </td><td>0.14250</td><td>0.28390</td><td>0.2414 </td><td>0.10520</td><td>0.2597 </td><td>...    </td><td>14.91  </td><td>26.50  </td><td> 98.87 </td><td> 567.7 </td><td>0.2098 </td><td>0.8663 </td><td>0.6869 </td><td>0.2575 </td><td>0.6638 </td><td>0.17300</td></tr>\n",
       "\t<tr><td>M      </td><td>20.29  </td><td>14.34  </td><td>135.10 </td><td>1297.0 </td><td>0.10030</td><td>0.13280</td><td>0.1980 </td><td>0.10430</td><td>0.1809 </td><td>...    </td><td>22.54  </td><td>16.67  </td><td>152.20 </td><td>1575.0 </td><td>0.1374 </td><td>0.2050 </td><td>0.4000 </td><td>0.1625 </td><td>0.2364 </td><td>0.07678</td></tr>\n",
       "\t<tr><td>M      </td><td>12.45  </td><td>15.70  </td><td> 82.57 </td><td> 477.1 </td><td>0.12780</td><td>0.17000</td><td>0.1578 </td><td>0.08089</td><td>0.2087 </td><td>...    </td><td>15.47  </td><td>23.75  </td><td>103.40 </td><td> 741.6 </td><td>0.1791 </td><td>0.5249 </td><td>0.5355 </td><td>0.1741 </td><td>0.3985 </td><td>0.12440</td></tr>\n",
       "</tbody>\n",
       "</table>\n"
      ],
      "text/latex": [
       "\\begin{tabular}{r|lllllllllllllllllllllllllllllll}\n",
       " diagnosis & r\\_mean & t\\_mean & p\\_mean & a\\_mean & s\\_mean & c\\_mean & con\\_mean & cpoints\\_mean & sym\\_mean & ... & r\\_worst & t\\_worst & p\\_worst & a\\_worst & s\\_worst & c\\_worst & con\\_worst & c\\_points\\_w & sym\\_worst & f\\_dim\\_w\\\\\n",
       "\\hline\n",
       "\t M       & 17.99   & 10.38   & 122.80  & 1001.0  & 0.11840 & 0.27760 & 0.3001  & 0.14710 & 0.2419  & ...     & 25.38   & 17.33   & 184.60  & 2019.0  & 0.1622  & 0.6656  & 0.7119  & 0.2654  & 0.4601  & 0.11890\\\\\n",
       "\t M       & 20.57   & 17.77   & 132.90  & 1326.0  & 0.08474 & 0.07864 & 0.0869  & 0.07017 & 0.1812  & ...     & 24.99   & 23.41   & 158.80  & 1956.0  & 0.1238  & 0.1866  & 0.2416  & 0.1860  & 0.2750  & 0.08902\\\\\n",
       "\t M       & 19.69   & 21.25   & 130.00  & 1203.0  & 0.10960 & 0.15990 & 0.1974  & 0.12790 & 0.2069  & ...     & 23.57   & 25.53   & 152.50  & 1709.0  & 0.1444  & 0.4245  & 0.4504  & 0.2430  & 0.3613  & 0.08758\\\\\n",
       "\t M       & 11.42   & 20.38   &  77.58  &  386.1  & 0.14250 & 0.28390 & 0.2414  & 0.10520 & 0.2597  & ...     & 14.91   & 26.50   &  98.87  &  567.7  & 0.2098  & 0.8663  & 0.6869  & 0.2575  & 0.6638  & 0.17300\\\\\n",
       "\t M       & 20.29   & 14.34   & 135.10  & 1297.0  & 0.10030 & 0.13280 & 0.1980  & 0.10430 & 0.1809  & ...     & 22.54   & 16.67   & 152.20  & 1575.0  & 0.1374  & 0.2050  & 0.4000  & 0.1625  & 0.2364  & 0.07678\\\\\n",
       "\t M       & 12.45   & 15.70   &  82.57  &  477.1  & 0.12780 & 0.17000 & 0.1578  & 0.08089 & 0.2087  & ...     & 15.47   & 23.75   & 103.40  &  741.6  & 0.1791  & 0.5249  & 0.5355  & 0.1741  & 0.3985  & 0.12440\\\\\n",
       "\\end{tabular}\n"
      ],
      "text/markdown": [
       "\n",
       "| diagnosis | r_mean | t_mean | p_mean | a_mean | s_mean | c_mean | con_mean | cpoints_mean | sym_mean | ... | r_worst | t_worst | p_worst | a_worst | s_worst | c_worst | con_worst | c_points_w | sym_worst | f_dim_w |\n",
       "|---|---|---|---|---|---|---|---|---|---|---|---|---|---|---|---|---|---|---|---|---|\n",
       "| M       | 17.99   | 10.38   | 122.80  | 1001.0  | 0.11840 | 0.27760 | 0.3001  | 0.14710 | 0.2419  | ...     | 25.38   | 17.33   | 184.60  | 2019.0  | 0.1622  | 0.6656  | 0.7119  | 0.2654  | 0.4601  | 0.11890 |\n",
       "| M       | 20.57   | 17.77   | 132.90  | 1326.0  | 0.08474 | 0.07864 | 0.0869  | 0.07017 | 0.1812  | ...     | 24.99   | 23.41   | 158.80  | 1956.0  | 0.1238  | 0.1866  | 0.2416  | 0.1860  | 0.2750  | 0.08902 |\n",
       "| M       | 19.69   | 21.25   | 130.00  | 1203.0  | 0.10960 | 0.15990 | 0.1974  | 0.12790 | 0.2069  | ...     | 23.57   | 25.53   | 152.50  | 1709.0  | 0.1444  | 0.4245  | 0.4504  | 0.2430  | 0.3613  | 0.08758 |\n",
       "| M       | 11.42   | 20.38   |  77.58  |  386.1  | 0.14250 | 0.28390 | 0.2414  | 0.10520 | 0.2597  | ...     | 14.91   | 26.50   |  98.87  |  567.7  | 0.2098  | 0.8663  | 0.6869  | 0.2575  | 0.6638  | 0.17300 |\n",
       "| M       | 20.29   | 14.34   | 135.10  | 1297.0  | 0.10030 | 0.13280 | 0.1980  | 0.10430 | 0.1809  | ...     | 22.54   | 16.67   | 152.20  | 1575.0  | 0.1374  | 0.2050  | 0.4000  | 0.1625  | 0.2364  | 0.07678 |\n",
       "| M       | 12.45   | 15.70   |  82.57  |  477.1  | 0.12780 | 0.17000 | 0.1578  | 0.08089 | 0.2087  | ...     | 15.47   | 23.75   | 103.40  |  741.6  | 0.1791  | 0.5249  | 0.5355  | 0.1741  | 0.3985  | 0.12440 |\n",
       "\n"
      ],
      "text/plain": [
       "  diagnosis r_mean t_mean p_mean a_mean s_mean  c_mean  con_mean cpoints_mean\n",
       "1 M         17.99  10.38  122.80 1001.0 0.11840 0.27760 0.3001   0.14710     \n",
       "2 M         20.57  17.77  132.90 1326.0 0.08474 0.07864 0.0869   0.07017     \n",
       "3 M         19.69  21.25  130.00 1203.0 0.10960 0.15990 0.1974   0.12790     \n",
       "4 M         11.42  20.38   77.58  386.1 0.14250 0.28390 0.2414   0.10520     \n",
       "5 M         20.29  14.34  135.10 1297.0 0.10030 0.13280 0.1980   0.10430     \n",
       "6 M         12.45  15.70   82.57  477.1 0.12780 0.17000 0.1578   0.08089     \n",
       "  sym_mean ... r_worst t_worst p_worst a_worst s_worst c_worst con_worst\n",
       "1 0.2419   ... 25.38   17.33   184.60  2019.0  0.1622  0.6656  0.7119   \n",
       "2 0.1812   ... 24.99   23.41   158.80  1956.0  0.1238  0.1866  0.2416   \n",
       "3 0.2069   ... 23.57   25.53   152.50  1709.0  0.1444  0.4245  0.4504   \n",
       "4 0.2597   ... 14.91   26.50    98.87   567.7  0.2098  0.8663  0.6869   \n",
       "5 0.1809   ... 22.54   16.67   152.20  1575.0  0.1374  0.2050  0.4000   \n",
       "6 0.2087   ... 15.47   23.75   103.40   741.6  0.1791  0.5249  0.5355   \n",
       "  c_points_w sym_worst f_dim_w\n",
       "1 0.2654     0.4601    0.11890\n",
       "2 0.1860     0.2750    0.08902\n",
       "3 0.2430     0.3613    0.08758\n",
       "4 0.2575     0.6638    0.17300\n",
       "5 0.1625     0.2364    0.07678\n",
       "6 0.1741     0.3985    0.12440"
      ]
     },
     "metadata": {},
     "output_type": "display_data"
    },
    {
     "name": "stdout",
     "output_type": "stream",
     "text": [
      "'data.frame':\t569 obs. of  31 variables:\n",
      " $ diagnosis   : Factor w/ 2 levels \"B\",\"M\": 2 2 2 2 2 2 2 2 2 2 ...\n",
      " $ r_mean      : num  18 20.6 19.7 11.4 20.3 ...\n",
      " $ t_mean      : num  10.4 17.8 21.2 20.4 14.3 ...\n",
      " $ p_mean      : num  122.8 132.9 130 77.6 135.1 ...\n",
      " $ a_mean      : num  1001 1326 1203 386 1297 ...\n",
      " $ s_mean      : num  0.1184 0.0847 0.1096 0.1425 0.1003 ...\n",
      " $ c_mean      : num  0.2776 0.0786 0.1599 0.2839 0.1328 ...\n",
      " $ con_mean    : num  0.3001 0.0869 0.1974 0.2414 0.198 ...\n",
      " $ cpoints_mean: num  0.1471 0.0702 0.1279 0.1052 0.1043 ...\n",
      " $ sym_mean    : num  0.242 0.181 0.207 0.26 0.181 ...\n",
      " $ f_dim_mean  : num  0.0787 0.0567 0.06 0.0974 0.0588 ...\n",
      " $ r_se        : num  1.095 0.543 0.746 0.496 0.757 ...\n",
      " $ t_se        : num  0.905 0.734 0.787 1.156 0.781 ...\n",
      " $ p_se        : num  8.59 3.4 4.58 3.44 5.44 ...\n",
      " $ a_se        : num  153.4 74.1 94 27.2 94.4 ...\n",
      " $ s_se        : num  0.0064 0.00522 0.00615 0.00911 0.01149 ...\n",
      " $ c_se        : num  0.049 0.0131 0.0401 0.0746 0.0246 ...\n",
      " $ con_se      : num  0.0537 0.0186 0.0383 0.0566 0.0569 ...\n",
      " $ c_points_se : num  0.0159 0.0134 0.0206 0.0187 0.0188 ...\n",
      " $ sym_se      : num  0.03 0.0139 0.0225 0.0596 0.0176 ...\n",
      " $ f_dim_se    : num  0.00619 0.00353 0.00457 0.00921 0.00511 ...\n",
      " $ r_worst     : num  25.4 25 23.6 14.9 22.5 ...\n",
      " $ t_worst     : num  17.3 23.4 25.5 26.5 16.7 ...\n",
      " $ p_worst     : num  184.6 158.8 152.5 98.9 152.2 ...\n",
      " $ a_worst     : num  2019 1956 1709 568 1575 ...\n",
      " $ s_worst     : num  0.162 0.124 0.144 0.21 0.137 ...\n",
      " $ c_worst     : num  0.666 0.187 0.424 0.866 0.205 ...\n",
      " $ con_worst   : num  0.712 0.242 0.45 0.687 0.4 ...\n",
      " $ c_points_w  : num  0.265 0.186 0.243 0.258 0.163 ...\n",
      " $ sym_worst   : num  0.46 0.275 0.361 0.664 0.236 ...\n",
      " $ f_dim_w     : num  0.1189 0.089 0.0876 0.173 0.0768 ...\n"
     ]
    }
   ],
   "source": [
    "cancer_new = cancer[,!(names(cancer) %in% c('id'))]\n",
    "\n",
    "#Renaming columns for increased visibility in the later diagrams\n",
    "names(cancer_new)[2] = 'r_mean' #radius mean\n",
    "names(cancer_new)[3] = 't_mean' #texture mean\n",
    "names(cancer_new)[4] = 'p_mean' #perimeter mean\n",
    "names(cancer_new)[5] = 'a_mean' #area mean\n",
    "names(cancer_new)[6] = 's_mean' #smoothness mean\n",
    "names(cancer_new)[7] = 'c_mean' #compactness_mean\n",
    "names(cancer_new)[8] = 'con_mean' #concave mean\n",
    "names(cancer_new)[9] = 'cpoints_mean' #concave points mean\n",
    "names(cancer_new)[10] = 'sym_mean' #symmetry mean\n",
    "names(cancer_new)[11] = 'f_dim_mean' #fractal dimension mean\n",
    "names(cancer_new)[12] = 'r_se' #radius standard error\n",
    "names(cancer_new)[13] = 't_se' #texture standard error\n",
    "names(cancer_new)[14] = 'p_se' #perimeter standard error\n",
    "names(cancer_new)[15] = 'a_se' #area standard error\n",
    "names(cancer_new)[16] = 's_se' #smoothness standard error\n",
    "names(cancer_new)[17] = 'c_se' #compactness standard error\n",
    "names(cancer_new)[18] = 'con_se' #concavity standard error\n",
    "names(cancer_new)[19] = 'c_points_se' #concavity points standard error\n",
    "names(cancer_new)[20] = 'sym_se' #symmetry standard error\n",
    "names(cancer_new)[21] = 'f_dim_se' #fractal dimension standard error\n",
    "names(cancer_new)[22] = 'r_worst' #worst radius\n",
    "names(cancer_new)[23] = 't_worst' #worst texture\n",
    "names(cancer_new)[24] = 'p_worst' #worst perimeter\n",
    "names(cancer_new)[25] = 'a_worst' #worst area\n",
    "names(cancer_new)[26] = 's_worst' #worst smoothness\n",
    "names(cancer_new)[27] = 'c_worst' #worst compactness\n",
    "names(cancer_new)[28] = 'con_worst' #worst concavity\n",
    "names(cancer_new)[29] = 'c_points_w' #worst concavity points\n",
    "names(cancer_new)[30] = 'sym_worst' #worst symmetry\n",
    "names(cancer_new)[31] = 'f_dim_w' #worst fractal dimension\n",
    "\n",
    "\n",
    "head(cancer_new)\n",
    "str(cancer_new)"
   ]
  },
  {
   "cell_type": "markdown",
   "id": "efb3c1f5",
   "metadata": {},
   "source": [
    "Notice how **diagnosis** is already established as a factor with 2 levels. Thus, no further manipulation needs to be done with functions such as dplyr's lapply() or as.factor function. Furthermore, no categorical variables exist either, so no further manipulation has to be done.\n",
    "\n",
    "The training and testing sets, along with the diagrams, will be created next."
   ]
  },
  {
   "cell_type": "code",
   "execution_count": 34,
   "id": "889de75f",
   "metadata": {},
   "outputs": [
    {
     "data": {
      "text/plain": [
       "\n",
       "Classification tree:\n",
       "tree(formula = diagnosis ~ ., data = cancer_new, subset = training)\n",
       "Variables actually used in tree construction:\n",
       "[1] \"cpoints_mean\" \"r_worst\"      \"t_mean\"       \"s_mean\"       \"sym_se\"      \n",
       "[6] \"p_worst\"      \"t_worst\"     \n",
       "Number of terminal nodes:  10 \n",
       "Residual mean deviance:  0.09218 = 38.35 / 416 \n",
       "Misclassification error rate: 0.02113 = 9 / 426 "
      ]
     },
     "metadata": {},
     "output_type": "display_data"
    }
   ],
   "source": [
    "set.seed(7315) #Use the same random seed\n",
    "\n",
    "training = sample(1:nrow(cancer_new), size = .75*nrow(cancer_new), replace = FALSE)\n",
    "ttree = tree(diagnosis~., data = cancer_new, subset = training) #full tree\n",
    "summary(ttree)"
   ]
  },
  {
   "cell_type": "markdown",
   "id": "32d50519",
   "metadata": {},
   "source": [
    "The residual mean deviance appears to be quite small, as does the misclassification error rate. Also, few of the variables were used when compared to all 30. The plot shows the decision making process"
   ]
  },
  {
   "cell_type": "code",
   "execution_count": 35,
   "id": "5cc53897",
   "metadata": {},
   "outputs": [
    {
     "data": {
      "image/png": "[encoded data removed]",
      "text/plain": [
       "plot without title"
      ]
     },
     "metadata": {},
     "output_type": "display_data"
    }
   ],
   "source": [
    "plot(ttree)\n",
    "text(ttree, pretty=0, cex=.5)"
   ]
  },
  {
   "cell_type": "code",
   "execution_count": 36,
   "id": "fbb9b0be",
   "metadata": {},
   "outputs": [
    {
     "data": {
      "image/png": "[encoded data removed]",
      "text/plain": [
       "Plot with title \"Classification Tree Outline\""
      ]
     },
     "metadata": {},
     "output_type": "display_data"
    }
   ],
   "source": [
    "crossValTree = cv.tree(object=ttree) #seeing which number of nodes will give the best result for predictions\n",
    "plot(crossValTree$size, crossValTree$dev, type = 'b',\n",
    "    xlab = 'Number of terminal nodes', ylab = 'Deviance', main = 'Classification Tree Outline',\n",
    "    col = 'blue')"
   ]
  },
  {
   "cell_type": "markdown",
   "id": "77a5b1df",
   "metadata": {},
   "source": [
    "The problem of overfitting may be very likely, so we need to prune the tree into a smaller subset of the full tree shown previously. The cross-validated graph above shows which number of terminal nodes will provide the best fit that isn't so overfitted like the full tree. In other words, this pruned tree will not be as complex of a model. Only three variables are included in the decision making process."
   ]
  },
  {
   "cell_type": "code",
   "execution_count": 37,
   "id": "c2849ca2",
   "metadata": {
    "scrolled": true
   },
   "outputs": [
    {
     "data": {
      "image/png": "[encoded data removed]",
      "text/plain": [
       "plot without title"
      ]
     },
     "metadata": {},
     "output_type": "display_data"
    }
   ],
   "source": [
    "prunedTree = prune.tree(ttree, best=4)\n",
    "plot(prunedTree)\n",
    "text(prunedTree, pretty=0)"
   ]
  },
  {
   "cell_type": "markdown",
   "id": "e6bdc699",
   "metadata": {},
   "source": [
    "After creating the confusion matrix for both trees, we can analyze the results by implementing a dataframe."
   ]
  },
  {
   "cell_type": "code",
   "execution_count": 38,
   "id": "c804825b",
   "metadata": {},
   "outputs": [
    {
     "data": {
      "text/plain": [
       "     ytest\n",
       "ypred  B  M\n",
       "    B 83  3\n",
       "    M  8 49"
      ]
     },
     "metadata": {},
     "output_type": "display_data"
    }
   ],
   "source": [
    "yhat = predict(ttree, newdata = cancer_new[-training,]) #Full tree\n",
    "ytest = cancer_new[-training,'diagnosis']\n",
    "ypred = ifelse(test=(yhat[,2]>0),'M','B')\n",
    "\n",
    "fullTable = table(ypred,ytest)\n",
    "fullTable"
   ]
  },
  {
   "cell_type": "code",
   "execution_count": 39,
   "id": "d2c5d366",
   "metadata": {},
   "outputs": [
    {
     "data": {
      "text/plain": [
       "     ytest\n",
       "ypred  B  M\n",
       "    B 79  2\n",
       "    M 12 50"
      ]
     },
     "metadata": {},
     "output_type": "display_data"
    }
   ],
   "source": [
    "yhat = predict(prunedTree, newdata = cancer_new[-training,]) #Pruned tree\n",
    "ytest = cancer_new[-training,'diagnosis']\n",
    "ypred = ifelse(test=(yhat[,2]>0.02),'M','B') \n",
    "#since there are so few variables, the values don't converge to 0 or 1 like normal\n",
    "#So, .02 is used instead of 0 since the matrix would not work if 0 is used\n",
    "\n",
    "partialTable = table(ypred,ytest)\n",
    "partialTable"
   ]
  },
  {
   "cell_type": "code",
   "execution_count": 40,
   "id": "0d971ad1",
   "metadata": {},
   "outputs": [],
   "source": [
    "fullSens = fullTable[2,2] / sum(fullTable[,2])\n",
    "\n",
    "pruneSens = partialTable[2,2] / sum(partialTable[,2])\n",
    "\n",
    "fullAccuracy = (fullTable[1,1] + fullTable[2,2]) / sum(fullTable)\n",
    "\n",
    "pruneAccuracy = (partialTable[1,1] + partialTable[2,2]) / sum(partialTable)"
   ]
  },
  {
   "cell_type": "code",
   "execution_count": 41,
   "id": "bb13ef7a",
   "metadata": {},
   "outputs": [
    {
     "data": {
      "text/html": [
       "<table>\n",
       "<thead><tr><th scope=col>Method</th><th scope=col>Sensitivity</th><th scope=col>Accuracy</th></tr></thead>\n",
       "<tbody>\n",
       "\t<tr><td>Full Tree  </td><td>0.9423077  </td><td>0.9230769  </td></tr>\n",
       "\t<tr><td>Pruned Tree</td><td>0.9615385  </td><td>0.9020979  </td></tr>\n",
       "\t<tr><td>Ridge      </td><td>0.9423077  </td><td>0.9790210  </td></tr>\n",
       "\t<tr><td>Lasso      </td><td>0.9230769  </td><td>0.9720280  </td></tr>\n",
       "</tbody>\n",
       "</table>\n"
      ],
      "text/latex": [
       "\\begin{tabular}{r|lll}\n",
       " Method & Sensitivity & Accuracy\\\\\n",
       "\\hline\n",
       "\t Full Tree   & 0.9423077   & 0.9230769  \\\\\n",
       "\t Pruned Tree & 0.9615385   & 0.9020979  \\\\\n",
       "\t Ridge       & 0.9423077   & 0.9790210  \\\\\n",
       "\t Lasso       & 0.9230769   & 0.9720280  \\\\\n",
       "\\end{tabular}\n"
      ],
      "text/markdown": [
       "\n",
       "| Method | Sensitivity | Accuracy |\n",
       "|---|---|---|\n",
       "| Full Tree   | 0.9423077   | 0.9230769   |\n",
       "| Pruned Tree | 0.9615385   | 0.9020979   |\n",
       "| Ridge       | 0.9423077   | 0.9790210   |\n",
       "| Lasso       | 0.9230769   | 0.9720280   |\n",
       "\n"
      ],
      "text/plain": [
       "  Method      Sensitivity Accuracy \n",
       "1 Full Tree   0.9423077   0.9230769\n",
       "2 Pruned Tree 0.9615385   0.9020979\n",
       "3 Ridge       0.9423077   0.9790210\n",
       "4 Lasso       0.9230769   0.9720280"
      ]
     },
     "metadata": {},
     "output_type": "display_data"
    }
   ],
   "source": [
    "Sensitivity = c(fullSens, pruneSens ,ridgeSens ,lassoSens)\n",
    "Accuracy = c(fullAccuracy, pruneAccuracy, ridgeAccuracy, lassoAccuracy)\n",
    "Method = c('Full Tree', 'Pruned Tree', 'Ridge', 'Lasso')\n",
    "df = data.frame(Method, Sensitivity, Accuracy)\n",
    "df"
   ]
  },
  {
   "cell_type": "markdown",
   "id": "a6298d18",
   "metadata": {},
   "source": [
    "## Conclusions"
   ]
  },
  {
   "cell_type": "markdown",
   "id": "52725fdf",
   "metadata": {},
   "source": [
    "Either out of coincidence or because a relationship exists, it appears that the lasso method's sensitivity and the full tree's accuracy are the exact same value. The regression regularization methods both seem to provide very similar results for accuracy, with ridge regression having a slight edge. They outperformed the classification method greatly. This makes sense; regression methods are designed to minimize the error, and thus makes the most accurate predictions that it can. with a whopping 97% and 98% total accuracy rate, this provides some insight on what the preferred method should be when future testing is done for accuracy on different projects. The sensitivity for these methods was good as well, but it did not perform as well as the prune tree specifically. The pruned tree is the model we would opt for in a classification example since it's not only more parsimonious, but also lessens the issue of overfitting. The sensitivity is the highest for this, at 0.96, meaning that 96% of the time, given that the patient has the disease, the patient tests positive. This is exactly what doctors are trying to determine most times because they will want to correctly determine if a patient has a disease. On the other hand, if one tests positive even though they don't have the disease, it does not affect them as much since they will be getting unneeded help, whereas the other scenario is much more drastic since the person needs help but aren't receiving treatment. The pruned tree does have the worst accuracy out of all the methods, so it should be used when specifically wanting to obtain the highest sensitivity of a test. The full tree suffers from the problem of overfitting, but was included for the sake of comparison.\n",
    "\n",
    "For future projects, it may be useful to try other methods, like bagging. Bagging is often a better method to use than classification. Classification is simple and easy to implement, but it comes at the cost of having slightly worse out-of-sample performance. This can be seen with the total accuracy being so low on those methods. Bagg or boost trees usually have much better and maybe even the best out-of-sample performance. \n",
    "\n",
    "Secondly, I believe it's worth looking into data with many more observations and much more spread out data. The data here is very accurate and constricted, but it may be useful to classify an object that is not so obvious. Usually, one can tell when something is wrong when examining the lump. When it grows to such a large size, chances are it is malignant. Using other data where the outcome is not so obvious may be more interesting to analyze.\n",
    "\n",
    "Lastly, classifying more than just two factors can be a lot more useful for other data. Most classification datasets have many, many factors and categories. This one was simple with just two, but attempting to classify more variables sounds more challenging and more useful than what was done in this project.\n",
    "\n",
    "I believe the results of this project are somewhat insightful, and going forward, depending on the goal of the project or the situation that is being looked into, I would be able to determine which method to use over the other more concretely than just picking an option that's suitable but not necessarily the best choice. "
   ]
  },
  {
   "cell_type": "code",
   "execution_count": null,
   "id": "b98d1118",
   "metadata": {},
   "outputs": [],
   "source": []
  }
 ],
 "metadata": {
  "kernelspec": {
   "display_name": "R",
   "language": "R",
   "name": "ir"
  },
  "language_info": {
   "codemirror_mode": "r",
   "file_extension": ".r",
   "mimetype": "text/x-r-source",
   "name": "R",
   "pygments_lexer": "r",
   "version": "3.6.1"
  }
 },
 "nbformat": 4,
 "nbformat_minor": 5
}
